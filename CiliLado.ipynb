{
 "cells": [
  {
   "cell_type": "markdown",
   "metadata": {},
   "source": [
    "# Cili Lado Data Analytics and Machine Learning Project - Group 8\n",
    "Table of Content:\n",
    "\n",
    "Step 1: Acquire the dataset\n",
    "\n",
    "Step 2: Import the libraries\n",
    "\n",
    "Step 3: Import the dataset\n",
    "\n",
    "Step 4: Feature Selection\n",
    "\n",
    "Step 5: Clean the data by identifying and handling missing value, redundancy and outliers\n",
    "\n",
    "Step 6: Encode the categorical data\n",
    "\n",
    "Step 7: Feature Scaling\n",
    "\n",
    "Step 8: Splitting dataset into training and testing sets, train the model and measure the accurancy, Random Forest Model\n",
    "\n",
    "Step 9: Multiple Linear Regression Model\n",
    "\n",
    "Step 10: XGB Model\n",
    "\n",
    "Step 11: Suggestion\n",
    "\n",
    "Step 12: Reference\n",
    "\n",
    "The flowchart of our work are shown in the diagram below.\n",
    "\n",
    "![FlowChart](CiliLadoData/FlowChart.png)"
   ]
  },
  {
   "cell_type": "markdown",
   "metadata": {},
   "source": [
    "# Objective\n",
    "Our objective is to find the most important feature that will affect the sales. By analysing the info we have been given, we want to come up with tailor-made plans that use these behavior patterns to improve Cili Lado's business. In this way, it can help us to make better choices and improve our strategies for long-term success in the ever-changing market. We choose this objective because this is important in every business and the most straight forward adjective. \n",
    "\n",
    "We get this obejctive by putting ourslef in cililado shoes and we know that there are 18 group doing cililado. By thibking of this there are 18 different suggestion given by every team which might be confusing for the owner of cili lado, so by using this objective we can make sure that or objective is the priorioty first."
   ]
  },
  {
   "cell_type": "markdown",
   "metadata": {},
   "source": [
    "# Step 1: Acquire the dataset\n",
    "\n",
    "We got the data from this google drive link. https://drive.google.com/drive/folders/16BK8_d1V-A3M1WQ0neaeCwqrHPfzH7QS?usp=sharing . This link is provided by Wei Shen where he got it from Mr.Afiq, who is the founder of Cili Lado.\n",
    "\n",
    "Not all datasets in google drive have been used, only certain datasets that are relevant to our analysis have been used. The selected datasets are the Product Overview from the Product Folder. \n",
    "\n",
    "We download all the dataset into our local drive as a zip file .\n",
    "\n",
    "![DownloadAll](CiliLadoData/DownloadAll.png)\n",
    "\n",
    "All the datasets is downloaded in this zip file.\n",
    "\n",
    "![ZippedFile](CiliLadoData/ZippedFile.png)\n",
    "![DownloadedFile](CiliLadoData/DownloadedFile.png)\n",
    "\n",
    "The zip file includes the Product Overview datasets which is from May 2023 to October 2023. Each of them has 22 columns but different number of rows. May, June, July, August, September, October has 32, 31, 32, 32, 31, 32 rows respectively. The column names are:\n",
    "\n",
    "1. Date\n",
    "2. Product Visitors (Visit)\n",
    "3. Product Page Views\n",
    "4. Items Visited\n",
    "5. Product Bounce Visitors\n",
    "6. Product Bounce Rate\n",
    "7. Search Clicks\n",
    "8. Likes\n",
    "9. Product Visitors (Add to Cart)\n",
    "10. Units (Add to Cart)\n",
    "11. Conversion Rate (Add to Cart)\n",
    "12. Buyers (Placed Order)\n",
    "13. Units (Placed Order)\n",
    "14. Items Placed\n",
    "15. Sales (Placed Order)(MYR)\n",
    "16. Conversion Rate (Placed Order)\n",
    "17. Buyers (Confirmed Order)\n",
    "18. Units (Confirmed Order)\n",
    "19. Items Confirmed\n",
    "20. Sales (Confiremd Order)(MYR)\n",
    "21. Conversion Rate (Confirmed Order)\n",
    "22. Converison Rate (Placed to Confirmed)\n",
    "\n",
    "We first combine all 6 datasets together by copying and pasting them into a new Excel File named MergedFile.xlsx.\n",
    "\n",
    "![CopiedFile](CiliLadoData/CopiedFile.png)\n",
    "\n",
    "![PasteFile](CiliLadoData/PasteFile.png)\n",
    "\n",
    "![MayJune](CiliLadoData/MayJune.png)\n",
    "\n",
    "To check if the datasets are merged correctly, we calculate the total number of rows from each file, which is 31 + 30 + 31 + 31 + 30 + 31 + 1 = 185. The total is same as our MergedFile, which has 185 rows and this means that the merged file contains all needed data.\n",
    "\n",
    "However, to fulfill our objective, we require a different set of data sourced from the Dashboard of the year 2023.\n",
    "\n",
    "![Dashboard2023](CiliLadoData/Dashboard2023.png)\n",
    "\n",
    "These following columns have been extracted from the Dashboard dataset:\n",
    "\n",
    "1. Numbers of new buyers\n",
    "2. Numbers of existing buyers\n",
    "\n",
    "We decided to complete all these steps in Excel instead of in Python because it is faster. Besides that, we want to make direct changes to our dataset rather than temporary changes only.\n",
    "\n",
    "Up to now, we have 24 column and 184 rows inside the dataset.\n",
    "\n",
    "Initially, almost all the data in the Excel file was not numerical data.\n",
    "\n",
    "![ConvertData](CiliLadoData/ConvertData.png)\n",
    "\n",
    "Therefore, we converted all the data in the dataset into numerical values by selecting the \"Convert to Number\" option in Excel to prevent potential errors. You can identify non-numeric data when the left upper corner of the cell is marked in green.\n",
    "\n",
    "![Number](CiliLadoData/Number.png)\n",
    "\n",
    "If all the cells are white, it indicates that we have successfully converted the data into numerical values. Now, we can proceed with using Python for data preprocessing steps.\n",
    "\n",
    "We have also converted the date column to ensure Python recognises it in date format, preventing unintentional calculations. This format ensures proper identification as a date type without triggering any unwanted error.\n",
    "\n",
    "![Date](CiliLadoData/Date.png)\n",
    "\n",
    "Now the data can be used for the next few steps.\n"
   ]
  },
  {
   "cell_type": "markdown",
   "metadata": {},
   "source": [
    "# Step 2: Import the libraries"
   ]
  },
  {
   "cell_type": "code",
   "execution_count": null,
   "metadata": {},
   "outputs": [],
   "source": [
    "import pandas as pd\n",
    "import numpy as np\n",
    "import matplotlib.pyplot as plt\n",
    "import seaborn as sns\n",
    "from sklearn.preprocessing import MinMaxScaler\n",
    "from sklearn.model_selection import train_test_split\n",
    "from scipy.stats import shapiro, norm\n",
    "from sklearn.metrics import mean_absolute_error, mean_squared_error, r2_score\n",
    "from keras.models import Sequential\n",
    "from keras.layers import LSTM, Dense\n",
    "from sklearn.ensemble import RandomForestRegressor\n",
    "from sklearn.model_selection import GridSearchCV\n",
    "import statsmodels.api as sm"
   ]
  },
  {
   "cell_type": "markdown",
   "metadata": {},
   "source": [
    "# Step 3: Import the dataset\n",
    "\n",
    "We import the datasets from a local directory. We create a folder named CiliLadoData and store all the datasets and images we use in that folder."
   ]
  },
  {
   "cell_type": "code",
   "execution_count": null,
   "metadata": {},
   "outputs": [],
   "source": [
    "df = pd.read_excel('MergedFile.xlsx')\n",
    "\n",
    "# Use .info() to show the info of the Excel file\n",
    "print(df.info())"
   ]
  },
  {
   "cell_type": "code",
   "execution_count": null,
   "metadata": {},
   "outputs": [],
   "source": [
    "# Use print df to show the dataset\n",
    "print(df)"
   ]
  },
  {
   "cell_type": "markdown",
   "metadata": {},
   "source": [
    "# Step 4: Feature Selection\n",
    "\n",
    "We have implemented an initial step in our data preprocessing by strategically dropping columns that express the same meaning or highly correlated. This proactive approach helps in simplifying our model by removing redundancies or closely correlated features that might not significantly contribute unique insights to our modeling. Here are all the removed columns:\n",
    "\n",
    "**Sales (Placed Order) (MYR), Units (Confirmed Order), Buyers (Confirmed Order), Units (Placed Order), Buyers (Placed Order), Units (Add to Cart), Conversion Rate (Confirmed Order), Conversion Rate (Placed Order), Conversion Rate (Add to Cart), Conversion Rate (Placed to Confirmed),Product Bounce Visitors, Items Placed, Items Confirmed, Items Visited, Product Visitors (Add to Cart), Product Bounce Rate**\n",
    "\n",
    "For the total sales, we only focus on  Sales (Confirmed Order) (MYR). All the columns above have similar meaning or highly related to Sales (Confirmed Order) (MYR). For instance, 'Units(Confirmed Order)' multiplied by 'Buyers (Confirmed Order)' equals to 'Sales (Placed Order) (MYR)'. Moreover, upon excluding cancelled payments, 'Sales (Placed Order) (MYR)' aligns closely with 'Sales (Confirmed Order) (MYR)'. This pattern of correlation extended across various columns labelled with 'Placed Order' or 'Confirmed Order', hence we have removed those related columns as well.\n",
    "\n",
    "Eliminating irrelevant columns prior to addressing noisy data serves as a proactive measure to prevent the interference of irrevelant columns on important columns.\n",
    "\n",
    "Here are the column that we retain:\n",
    "1. Date\n",
    "2. Product Visitors (Visit)\n",
    "3. Product Page Views\n",
    "4. Search Clicks\n",
    "5. Likes\n",
    "6. Sales (Confirmed Order) (MYR)\n",
    "7. Numbers of new buyers\n",
    "8. Numbers of existing buyers\n",
    "\n",
    "However, this decision was made based on human logic and assumptions. To ensure a more strict approach, we'll utilize correlation heatmaps to verify and double confirm our choices. This visualization will allow us to gauge the strength and direction of relationships among variables. Identifying patterns where certain factors positively or negatively impact sales will aid in making strategic decisions in subsequent steps.\n"
   ]
  },
  {
   "cell_type": "markdown",
   "metadata": {},
   "source": [
    "This is the correlation heat map before removal"
   ]
  },
  {
   "cell_type": "code",
   "execution_count": null,
   "metadata": {},
   "outputs": [],
   "source": [
    "# Calculate the correlation matrix\n",
    "correlation_matrix = df.corr()\n",
    "\n",
    "# Create a heatmap using seaborn\n",
    "plt.figure(figsize=(15, 10))\n",
    "sns.heatmap(correlation_matrix, annot=True, cmap='coolwarm', linewidths=.5)\n",
    "\n",
    "# Customize the plot (optional)\n",
    "plt.title('Correlation Heatmap between all variables')\n",
    "plt.show()"
   ]
  },
  {
   "cell_type": "markdown",
   "metadata": {},
   "source": [
    "We've implemented a rule to eliminate correlations at 80 percent and above. Following this, the remaining columns are displayed in the heatmap below\n",
    "\n",
    "Our choice of an 80 percent threshold in correlation removal aligns with common practices in data analysis. Furthermore, examining the graph, columns labeled 'Add to Cart' and 'Placed Order' exhibited correlation coefficients within the range of 80 to 99 percent. We even experimented by lowering the threshold to 0.7 and 0.6, which has the same results. Hence, we determined that 80 percent is a reliable and sufficient threshold."
   ]
  },
  {
   "cell_type": "code",
   "execution_count": null,
   "metadata": {},
   "outputs": [],
   "source": [
    "import pandas as pd\n",
    "import seaborn as sns\n",
    "import matplotlib.pyplot as plt\n",
    "\n",
    "# Assuming 'df' is your DataFrame\n",
    "\n",
    "# Calculate the correlation matrix\n",
    "correlation_matrix = df.corr()\n",
    "\n",
    "# Define the threshold\n",
    "threshold = 0.8\n",
    "\n",
    "# Mask values higher than the threshold\n",
    "mask = abs(correlation_matrix) > threshold\n",
    "correlation_matrix_masked = correlation_matrix.mask(mask)\n",
    "\n",
    "# Create a heatmap using seaborn with masked values\n",
    "plt.figure(figsize=(15, 10))\n",
    "sns.heatmap(correlation_matrix_masked, annot=True, cmap='coolwarm', linewidths=.5)\n",
    "\n",
    "# Customize the plot (optional)\n",
    "plt.title('Correlation Heatmap between all variables (Values above 0.8 masked)')\n",
    "plt.show()\n"
   ]
  },
  {
   "cell_type": "markdown",
   "metadata": {},
   "source": [
    "After removal, we discovered that the 8 remaining columns align with our initial manual selections for removal. This two-step approach, starting with human selection followed by machine-driven removal, guarantees that we retain only the columns we intended, avoiding the removal of important data or the addition of irrelevant columns"
   ]
  },
  {
   "cell_type": "code",
   "execution_count": null,
   "metadata": {},
   "outputs": [],
   "source": [
    "# Remove unwanted data columns that are irrelevant to the analysis\n",
    "drop_columns = ['Sales (Placed Order) (MYR)', 'Units (Confirmed Order)', 'Buyers (Confirmed Order)', 'Units (Placed Order)', 'Buyers (Placed Order)', \n",
    "                'Units (Add to Cart)', 'Conversion Rate (Confirmed Order)', 'Conversion Rate (Placed Order)', 'Conversion Rate (Add to Cart)', \n",
    "                'Conversion Rate (Placed to Confirmed)', 'Product Bounce Visitors', 'Items Placed', 'Items Confirmed', 'Items Visited',  \n",
    "                 'Product Visitors (Add to Cart)', 'Product Bounce Rate','Numbers of buyers']\n",
    "\n",
    "df = df.drop(columns=drop_columns)\n",
    "print(df)"
   ]
  },
  {
   "cell_type": "markdown",
   "metadata": {},
   "source": [
    "# Step 5: Clean the data by identifying and handling missing value, redundancies and outliers"
   ]
  },
  {
   "cell_type": "code",
   "execution_count": null,
   "metadata": {},
   "outputs": [],
   "source": [
    "# Determine the missing value of each column by using .isna(), use .sum() to sum all the missing value\n",
    "print(\"Find missing value of each column using isna()\")\n",
    "print (df.isna().sum())"
   ]
  },
  {
   "cell_type": "markdown",
   "metadata": {},
   "source": [
    "Based on the output from above, we realised that there are **no missing value** in the dataset, so we do not need to use .dropna() to delete or drop any row."
   ]
  },
  {
   "cell_type": "code",
   "execution_count": null,
   "metadata": {},
   "outputs": [],
   "source": [
    "# Determine any redundancy in the dataset\n",
    "# Use .duplicate is to check if there is any duplicate data\n",
    "duplicate_rows = df.duplicated().sum()\n",
    "duplicate_columns = df.T.duplicated().sum()\n",
    "\n",
    "print(\"Find any duplicate values:\")\n",
    "duplicate_rows, duplicate_columns"
   ]
  },
  {
   "cell_type": "markdown",
   "metadata": {},
   "source": [
    "Based on above result, we found out that there are **no duplicate data** in this dataset, so there are no redundancy occur in this datasets."
   ]
  },
  {
   "cell_type": "code",
   "execution_count": null,
   "metadata": {},
   "outputs": [],
   "source": [
    "# To check for outliers in the data\n",
    "\n",
    "# Exclude the 'Date' column\n",
    "outliersdf = df.copy()\n",
    "\n",
    "# Create a boxplot to visualize the outliers\n",
    "plt.figure(figsize=(15, 8))\n",
    "sns.boxplot(data=outliersdf)\n",
    "plt.title(\"Boxplot of Data\")\n",
    "plt.xticks(rotation=90)\n",
    "plt.show()"
   ]
  },
  {
   "cell_type": "markdown",
   "metadata": {},
   "source": [
    "The above figure is a boxplot, which is used to identify the outliers in the datasets. The circles that exceeded the horizontal lines which is above the boxplot are outliers."
   ]
  },
  {
   "cell_type": "markdown",
   "metadata": {},
   "source": [
    "Before dealing with outliers, we first need to investigate what causes the outliers. This is because there are 2 methods for dealing with outliers, which is **delete** and **imputation**. We found out that the Sales (Confirmed Order) (MYR) has the most outliers. This is the graph for Sales (Confirmed Order) (MYR) and Date."
   ]
  },
  {
   "cell_type": "code",
   "execution_count": null,
   "metadata": {},
   "outputs": [],
   "source": [
    "plt.figure(figsize=(10, 6))\n",
    "plt.plot(df['Date'], df['Sales (Confirmed Order) (MYR)'], marker='.', linestyle='-', color='b')\n",
    "plt.xlabel('Date')\n",
    "plt.ylabel('Sales (Confirmed Order) (MYR)')\n",
    "plt.title('Confirmed Order Sales Over Time')\n",
    "plt.grid(True)\n",
    "\n",
    "# Get indices of top 3 highest points\n",
    "top_3_indices = df['Sales (Confirmed Order) (MYR)'].nlargest(3).index\n",
    "\n",
    "# Get the dates corresponding to the highest and second highest values\n",
    "top_3_dates = df['Date'][top_3_indices].dt.date.to_list()\n",
    "\n",
    "print(top_3_dates)"
   ]
  },
  {
   "cell_type": "markdown",
   "metadata": {},
   "source": [
    "We found out that the 3 spikes represent the dates with the three highest sales. After some research, we found out that that these spikes corresponded to the date when Shopee hosted special offers on the 15th and 25th in certain months.\n",
    "\n",
    "![ShopeeOffer](CiliLadoData/ShopeeOffer.png)\n",
    "\n",
    "Despite recognising these as potential outliers due to high sales activity, we chose to retain these values to accurately represent the sales trends. This decision allows us to acknowledge significant spikes are related to promotional events, such as the spikes observed on dates like 8th of August(8.8) or 10th of October(10.10)."
   ]
  },
  {
   "cell_type": "markdown",
   "metadata": {},
   "source": [
    "These 3 spikes are sales in confirmed order and may also be the possible outliers in the dataset. After careful consideration, we decided not to deal with outliers by removing or imputing the outliers. This is because if we had imputed the outliers, it would have affected our analysis and led to a decrease in accuracy because the outliers were replaced by the median. Besides that, this decision was made after the following experiment.\n",
    "\n",
    "- If we use the data after imputation is done, the sales of confirmed orders are estimated to increase by MYR 23.10, when the number of new buyers increases by 1.\n",
    "\n",
    "- If we use the original data from the dataset, the sales of confirmed orders are estimated to increase by RM15.44 when the number of new buyers increases by 1.\n",
    "\n",
    "Comparing these two prices, RM15.44 is closer to the actual price of Cili Lado, which is RM18.00 per bottle. Therefore, we decided to ignore the outliers instead of handle/processing them. This is the code we use before decide to not use it.\n",
    "\n",
    "\n",
    "#Assuming 'outliersdf' is your original DataFrame\n",
    "\n",
    "outliersdf = df.copy()\n",
    "\n",
    "#Calculate the first quartile (Q1), third quartile (Q3) and interquartile range (IQR)\n",
    "\n",
    "Q1 = outliersdf.quantile(0.25, numeric_only=True)\n",
    "\n",
    "Q3 = outliersdf.quantile(0.75, numeric_only=True)\n",
    "\n",
    "IQR = Q3 - Q1\n",
    "\n",
    "#Function to replace outliers with the median (or mean)\n",
    "\n",
    "def impute_outlier_with_median(outliersdf, q1, q3, iqr):\n",
    "\n",
    "    for col in outliersdf.select_dtypes(include=np.number).columns:\n",
    "\n",
    "        lower_bound = q1[col] - 1.5 * iqr[col]\n",
    "\n",
    "        upper_bound = q3[col] + 1.5 * iqr[col]\n",
    "\n",
    "        median_value = outliersdf[col].median()\n",
    "\n",
    "        # Replace outliers with median (you can also use mean or other metrics)\n",
    "\n",
    "        outliersdf[col] = np.where((outliersdf[col] < lower_bound) | (outliersdf[col] > upper_bound), median_value, outliersdf[col])\n",
    "\n",
    "    return outliersdf\n",
    "\n",
    "#Impute outliers in the DataFrame\n",
    "\n",
    "df_imputed = impute_outlier_with_median(outliersdf.copy(), Q1, Q3, IQR)\n",
    "\n",
    "df = df_imputed.copy()\n",
    "\n",
    "#Create a boxplot to visualize the DataFrame with imputed outliers\n",
    "\n",
    "plt.figure(figsize=(15, 8))\n",
    "\n",
    "sns.boxplot(data=df_imputed)\n",
    "\n",
    "plt.title(\"Boxplot of Data with Imputed Outliers\")\n",
    "\n",
    "plt.xticks(rotation=90)\n",
    "\n",
    "plt.show()\n",
    "\n"
   ]
  },
  {
   "cell_type": "markdown",
   "metadata": {},
   "source": [
    "# Step 6: Encode the categorical data\n",
    "This step is to transform categorical data into numerical data since most of the machine learning model only understand numerical values. However, when dealing with the data in Excel beforehand, we can see that all of the data is numerical except for the Date column."
   ]
  },
  {
   "cell_type": "code",
   "execution_count": null,
   "metadata": {},
   "outputs": [],
   "source": [
    "# We need to determine the categorical data inside the dataset first\n",
    "# However, by observing the dataset it does not have any categorical data but we can double check it by using .dtypes\n",
    "print(df.dtypes)"
   ]
  },
  {
   "cell_type": "markdown",
   "metadata": {},
   "source": [
    "Based on above output, we can observe that all the data is in numerical format so we do not need to do any encoding."
   ]
  },
  {
   "cell_type": "markdown",
   "metadata": {},
   "source": [
    "# Step 7: Feature Scaling\n",
    "Normalise and standardise the range of features in the datasets to guarantee that the machine learning model can work and also help to improve the model's training speed and performance.\n",
    "\n",
    "We chose to use MinMaxScaler over other scaling methods as it ranges from 0 to 1, providing positive values for our features. This is in contrast to feature scaling, which ranges from -1 to 1. The positive range aligns well with our preference for non-negative values, making MinMaxScaler the suitable choice."
   ]
  },
  {
   "cell_type": "markdown",
   "metadata": {},
   "source": [
    "However when scaling down now, we cant directly see the real price prediction which will be used in the Multiple Linear Regression Model later, so we need to create a deep copy of d1, because deep copy wont affect d1 even d1 had undergo minmax feature scaling. This df1 will be used later to see the real price"
   ]
  },
  {
   "cell_type": "code",
   "execution_count": null,
   "metadata": {},
   "outputs": [],
   "source": [
    "# Extract the date column\n",
    "date_column = df.iloc[:, 0]\n",
    "\n",
    "df1 = df.copy(deep=True)  # Creating a deep copy of df as df1\n",
    "\n",
    "# Min-Max scale all columns except the date column\n",
    "minmax_data = MinMaxScaler().fit_transform(df.iloc[:, 1:])\n",
    "\n",
    "# Combine the Min-Max scaled data with the date column\n",
    "minmax_frame = pd.DataFrame(data=minmax_data, columns=df.columns[1:])\n",
    "minmax_frame.insert(0, df.columns[0], date_column)\n",
    "\n",
    "# Print the datasets after feature scaling\n",
    "print(minmax_frame)\n",
    "\n",
    "# Assuming 'df' is your original dataframe before any scaling\n",
    "df = minmax_frame.copy()\n"
   ]
  },
  {
   "cell_type": "markdown",
   "metadata": {},
   "source": [
    "# Step 8: Splitting dataset into training and testing sets, train the model and measure the accurancy\n",
    "\n",
    "We split the datasets into training and testing set. By referring to the Parento theory, the 80% of the datasets are used for trainig while the remaining 20% of the datasets are used for testing."
   ]
  },
  {
   "cell_type": "markdown",
   "metadata": {},
   "source": [
    "In the realm of business, where resources such as capital, time and effort are constrained, hence, strategic prioritisation becomes crucial. Therefore, Random Forest Model is used. \n",
    "\n",
    "It can capture non-linear relationships that Multiple Linear Regression might overlooked. This could reveal more complex patterns in how customer behaviours interact to influence sales, allowing for better marketing strategies.\n",
    "\n",
    "Also, it is more robust to outliers than Multiple Linear Regression, possibly providing a more accurate picture of the sales drivers because the data has outliers and is not normally distributed.\n",
    "\n",
    "With a better understanding of what drives sales because of feature importance, Cili Lado can create more targeted strategies. For instance, if Search Click is a key feature, Cili Lado might work to create more engaging contents to keep customers clicking into its page.\n",
    "\n",
    "We use a search grid and calculate the best parameters for the random forest. This is better because it does not require manually testing and it is more comprehensive and faster. Here are some of the parameters in random forest.\n",
    "\n",
    "1. n_estimators: The number of trees in the forest. Generally, more trees increase performance and decrease the risk of overfitting, but also increase computational cost.\n",
    "\n",
    "2. max_depth: The maximum depth of each tree. Deeper trees can model more complex patterns, however it could also lead to overfitting.\n",
    "\n",
    "3. min_samples_split: The minimum number of samples required to split an internal node. Higher values prevent creating nodes that only fit a small number of instances.\n",
    "\n",
    "4. min_samples_leaf: The minimum number of samples required to be at a leaf node. Setting this higher can smooth the model, especially for regression.\n",
    "\n",
    "5. max_features: The number of features to consider when looking for the best split. Trying different values can affect both performance and overfitting.\n",
    "\n",
    "However we are aware that the search grid sometimes will not produce consistence result however it is still better than doing it manually."
   ]
  },
  {
   "cell_type": "code",
   "execution_count": null,
   "metadata": {},
   "outputs": [],
   "source": [
    "x_rf = df.drop(columns=['Date','Sales (Confirmed Order) (MYR)'])\n",
    "\n",
    "y_rf = df['Sales (Confirmed Order) (MYR)']\n",
    "\n",
    "x_train_rf, x_test_rf, y_train_rf, y_test_rf = train_test_split(x_rf, y_rf, test_size=0.2, random_state=42)\n",
    "\n",
    "# Create a Random Forest Regression model\n",
    "model_rf = RandomForestRegressor()\n",
    "param_grid = {\n",
    "    'n_estimators': [100, 200, 300],\n",
    "    'max_depth': [10, 20, 30, None],\n",
    "    'min_samples_split': [2, 5, 10],\n",
    "    'min_samples_leaf': [1, 2, 4],\n",
    "    'max_features': ['auto', 'sqrt']\n",
    "}\n",
    "\n",
    "# Create the GridSearchCV object\n",
    "grid_search = GridSearchCV(estimator=model_rf, param_grid=param_grid, cv=3, n_jobs=-1, verbose=2)\n",
    "\n",
    "# Fit the grid search to the data\n",
    "grid_search.fit(x_train_rf, y_train_rf)\n",
    "\n",
    "# Print the best parameters\n",
    "print(\"Best parameters found: \", grid_search.best_params_)\n",
    "\n",
    "# Use the best parameters to create a new model\n",
    "best_rf = RandomForestRegressor(**grid_search.best_params_, random_state=42)\n",
    "\n",
    "# Train the model\n",
    "best_rf.fit(x_train_rf, y_train_rf)\n",
    "\n",
    "# Predict the test set result using the trained model\n",
    "y_pred_rf = best_rf.predict(x_test_rf)"
   ]
  },
  {
   "cell_type": "markdown",
   "metadata": {},
   "source": [
    "Below is the Random Forest Model with the best parameter found from the search grid above."
   ]
  },
  {
   "cell_type": "code",
   "execution_count": null,
   "metadata": {},
   "outputs": [],
   "source": [
    "best_rf_model = RandomForestRegressor(\n",
    "    max_depth=10,\n",
    "    max_features='sqrt',\n",
    "    min_samples_leaf=4,\n",
    "    min_samples_split=5,\n",
    "    n_estimators=200,\n",
    "    random_state=42\n",
    ")\n",
    "\n",
    "# Train the model\n",
    "best_rf_model.fit(x_train_rf, y_train_rf)\n",
    "\n",
    "# Make predictions on the test set\n",
    "y_pred_rf = best_rf_model.predict(x_test_rf)\n"
   ]
  },
  {
   "cell_type": "markdown",
   "metadata": {},
   "source": [
    "Plot the Random Forest Model with the best parameter"
   ]
  },
  {
   "cell_type": "code",
   "execution_count": null,
   "metadata": {},
   "outputs": [],
   "source": [
    "# Plotting the predicted vs actual values for Random Forest Model after getting the best parameters\n",
    "plt.scatter(y_test_rf, y_pred_rf)\n",
    "plt.xlabel('Actual Sales (Confirmed Order) (MYR)')\n",
    "plt.ylabel('Predicted Sales (Confirmed Order) (MYR)')\n",
    "plt.title('Random Forest Predicted vs. Actual Values')\n",
    "plt.show()\n",
    "\n",
    "# Calculate and print the performance metrics for Random Forest Model\n",
    "mae_rf = mean_absolute_error(y_test_rf, y_pred_rf)\n",
    "mse_rf = mean_squared_error(y_test_rf, y_pred_rf)\n",
    "r2_rf = r2_score(y_test_rf, y_pred_rf)\n",
    "rmse_rf = np.sqrt(mse_rf)\n",
    "\n",
    "print(f\"Random Forest Mean Absolute Error (MAE): {mae_rf}\")\n",
    "print(f\"Random Forest Mean Squared Error (MSE): {mse_rf}\")\n",
    "print(f\"Random Forest R-squared (R2): {r2_rf}\")\n",
    "print(f\"Random Forest Root Mean Squared Error (RMSE): {rmse_rf}\")"
   ]
  },
  {
   "cell_type": "markdown",
   "metadata": {},
   "source": [
    "Also generate the feature importance of each factor."
   ]
  },
  {
   "cell_type": "code",
   "execution_count": null,
   "metadata": {},
   "outputs": [],
   "source": [
    "feature_importances = best_rf_model.feature_importances_\n",
    "features = x_rf.columns  # Make sure this refers to the correct DataFrame used for training the model\n",
    "importance_df = pd.DataFrame({'Feature': features, 'Importance': feature_importances})\n",
    "\n",
    "# Plotting Feature Importances\n",
    "importance_df = importance_df.sort_values(by='Importance', ascending=False)\n",
    "plt.figure(figsize=(10, 6))\n",
    "plt.bar(importance_df['Feature'], importance_df['Importance'])\n",
    "plt.xlabel('Features')\n",
    "plt.ylabel('Importance')\n",
    "plt.title('Feature Importances in Random Forest Model')\n",
    "plt.xticks(rotation=90)\n",
    "plt.show()\n",
    "\n",
    "print(\"Feature Importances:\")\n",
    "print(importance_df)\n"
   ]
  },
  {
   "cell_type": "markdown",
   "metadata": {},
   "source": [
    "We found out that Numbers of new buyers, Product Page Views and Product Visitors (Visit) are the top 3 most important features that are related to sales. \n",
    "\n",
    "Therefore, according to this graph, Cili Lado should prioritise on focusing the marketing side to increase Numbers of new buyers and Product Page Views, as these two are the most important factors on increasing its sales."
   ]
  },
  {
   "cell_type": "code",
   "execution_count": null,
   "metadata": {},
   "outputs": [],
   "source": [
    "# Plot the graph for residuals\n",
    "\n",
    "# Calculate residuals\n",
    "residuals_rf = y_test_rf - y_pred_rf\n",
    "\n",
    "# Plot residuals against predicted values\n",
    "plt.scatter(y_pred_rf, residuals_rf)\n",
    "plt.title('Predicted vs Residuals (For accessing model accuracy)')\n",
    "plt.xlabel('Predicted Values')\n",
    "plt.ylabel('Residuals')\n",
    "plt.axhline(y=0, color='r', linestyle='--', linewidth=2)\n",
    "plt.show()"
   ]
  },
  {
   "cell_type": "markdown",
   "metadata": {},
   "source": [
    "The graph above show the relationship between predicted values and residuals that can help us to assess how well is the trained model predicts outcome. Predicted values are what the model thinks the result should be, while the residuals are the differences between the predictions and the actual values. \n",
    "\n",
    "Some of the data points are far from 0.0, indicating the model's predictions are sometimes higher and sometimes lower than the actual values. This variation might influenced by the external variables such as the promotional activity occuring from time to time, changes in customer behaviour, competition dynamics and economic changes that can impact sales unpredictably.\n",
    "\n",
    "However based on the above residuals plot, we can observe that most of the residuals are concentrated near the line. This means that this residuals plot is equally likely to estimate accurately throughout the entire prediction range. In addition, the vertical distribution in the left side is smaller, indicating higher prediction accuracy for these points."
   ]
  },
  {
   "cell_type": "code",
   "execution_count": null,
   "metadata": {},
   "outputs": [],
   "source": [
    "# y_test_rf and y_pred_rf are the test and predicted values\n",
    "residuals = y_test_rf - y_pred_rf\n",
    "\n",
    "# Create a density plot of the residuals\n",
    "sns.histplot(residuals, bins=50, kde=True, stat='density')\n",
    "\n",
    "# Calculate mean and standard deviation of the residuals for the normal distribution\n",
    "residuals_mean = residuals.mean()\n",
    "residuals_std = residuals.std()\n",
    "\n",
    "# Generate points along the x-axis for the normal distribution curve\n",
    "x = np.linspace(min(residuals), max(residuals), 100)\n",
    "# Calculate the corresponding probability density function (PDF) values for a normal distribution\n",
    "pdf = norm.pdf(x, residuals_mean, residuals_std)\n",
    "\n",
    "# Plot the normal distribution curve\n",
    "plt.plot(x, pdf, label='Normal Distribution', color='red')\n",
    "\n",
    "plt.xlabel('Residuals')\n",
    "plt.ylabel('Density')\n",
    "plt.title('Histogram of Residuals (Shapiro W p-value = {0:0.3f})'.format(shapiro(residuals)[1]))\n",
    "plt.legend()\n",
    "plt.show()"
   ]
  },
  {
   "cell_type": "markdown",
   "metadata": {},
   "source": [
    "The Shapiro-Wilk test is used to assess whether the sample data fits a normal distribution. The histogram of residuals above have a p-value of **0.000** suggests that the residuals are not normally distributed. \n",
    "\n",
    "Visual analysis further supports this conclusion. Upon comparing the histogram (blue bars) we can see that the residuals distribution compated to the normal distribution curve (red line) has several differences. The histogram displays left skewness, implying asymmetry, and has an extreme outliers on to the far right. This is notable in the graph where the rightmost point on the residual plot is the same as the highest point in the residual graph above. These observations collectively lead to the conclusion that the residuals are non-normally distributed."
   ]
  },
  {
   "cell_type": "markdown",
   "metadata": {},
   "source": [
    "# Step 9: Multiple Linear Regression\n",
    "\n",
    "After finding the most important feature. Multiple Linear Regression is used to find out the magnitude of impact on sales on the top 3 most important factor. \n",
    "\n",
    "We opted for Multiple Linear Regression (MLR) as it aligns with our business objectives. Utilizing a combination of both simple and complex models offers distinct advantages. A simpler model tends to convey clearer interpretations, aiding business owners in better understanding. Its straightforward nature enables deeper insights and a more tangible understanding compared to complex models. In the end, this method gives us a better understanding, helping us make smarter decisions that fit our business needs perfectly."
   ]
  },
  {
   "cell_type": "code",
   "execution_count": null,
   "metadata": {},
   "outputs": [],
   "source": [
    "x_mlr = df[['Numbers of new buyers', 'Product Page Views', 'Product Visitors (Visit)']]\n",
    "y_mlr = df['Sales (Confirmed Order) (MYR)']\n",
    "\n",
    "# Splitting the data into training and testing sets (80% train, 20% test)\n",
    "x_train_mlr, x_test_mlr, y_train_mlr, y_test_mlr = train_test_split(x_mlr, y_mlr, test_size=0.2, random_state=42)\n",
    "\n",
    "# Adding a constant for the intercept term in MLR\n",
    "x_train_mlr = sm.add_constant(x_train_mlr)\n",
    "x_test_mlr = sm.add_constant(x_test_mlr)\n",
    "\n",
    "# Fit the MLR model on the training data\n",
    "model_mlr = sm.OLS(y_train_mlr, x_train_mlr).fit()\n",
    "\n",
    "# Get the summary of the MLR model\n",
    "model_mlr_summary = model_mlr.summary()\n",
    "print(model_mlr_summary)\n",
    "\n",
    "# Optional: Predict and evaluate the model on the test data\n",
    "y_pred_mlr = model_mlr.predict(x_test_mlr)"
   ]
  },
  {
   "cell_type": "markdown",
   "metadata": {},
   "source": [
    "The table above shows the summary of the MLR. We only focus on the coefficient part as it hold important insights. This is the part which gives the most insights. However, after scaling the features, interpreting the numbers becomes less straightforward. For instance, a coefficient of 0.6377 signifies that each additional unit in the number of new buyers corresponds to a sales increase of 0.6377. To gain a clearer understanding, let's review the summary without feature scaling. This step will provide a more relatable perspective on the impact of each factor on sales."
   ]
  },
  {
   "cell_type": "code",
   "execution_count": null,
   "metadata": {},
   "outputs": [],
   "source": [
    "x_omlr = df1[['Numbers of new buyers', 'Product Page Views', 'Product Visitors (Visit)']]\n",
    "y_omlr = df1['Sales (Confirmed Order) (MYR)']\n",
    "\n",
    "# Splitting the data into training and testing sets (80% train, 20% test)\n",
    "x_train_omlr, x_test_omlr, y_train_omlr, y_test_omlr = train_test_split(x_omlr, y_omlr, test_size=0.2, random_state=42)\n",
    "\n",
    "# Adding a constant for the intercept term in MLR\n",
    "x_train_omlr = sm.add_constant(x_train_omlr)\n",
    "x_test_omlr = sm.add_constant(x_test_omlr)\n",
    "\n",
    "# Fit the MLR model on the training data\n",
    "model_omlr = sm.OLS(y_train_omlr, x_train_omlr).fit()\n",
    "\n",
    "# Get the summary of the MLR model\n",
    "model_mlr_osummary = model_omlr.summary()\n",
    "print(model_mlr_osummary)\n",
    "\n",
    "# Optional: Predict and evaluate the model on the test data\n",
    "y_pred_omlr = model_omlr.predict(x_test_omlr)"
   ]
  },
  {
   "cell_type": "markdown",
   "metadata": {},
   "source": [
    "1. Coefficient for 'Numbers of New Buyers' (23.0999):\n",
    "\n",
    "Interpretation: This coefficient implies that with each additional new buyer, the Sales (Confirmed Order) (MYR) increases by 23.0999. This positive coefficient underscores a robust and notable relationship between the number of new buyers and the sales outcome. Remarkably, considering the absence of the original price of a single unit of Cili Lado Sambal provided to the model, the prediction deviates by merely RM 5. \n",
    "\n",
    "This closeness suggests the model's potential accuracy in generating insightful predictions. However now lets consider standard error also, by using the formula \n",
    "\n",
    "Confidence interval=Coefficient estimate ± Margin of error, where margin of error = Critical value×Standard error. \n",
    "\n",
    "For a 95% confidence level which we assumed, the critical value is approximately 1.96. \n",
    "\n",
    "Calculate the margin of error:\n",
    "Margin of error=1.96×2=3.92\n",
    "\n",
    "Determine the confidence interval:\n",
    "Confidence interval=23.0999±3.92\n",
    "\n",
    "This results in a confidence interval of approximately [19.1799, 27.0199]. The 95% confidence level that the value fall within in range. \n",
    "\n",
    "So the accurancy is (1 - 5/18)*100% = 72.22% accurate. The difference of about RM 5 suggests that the model is capturing the key relationship quite well, though there is a slight overestimation. This has the possiblity that some new buyers may purchase more than one item and there are other factors influencing the total sales like discounts in Shopee.\n",
    "\n",
    "2. Coefficient for 'Product Page Views' (0.7705):\n",
    "\n",
    "Interpretation: The coefficient of 0.7705 implies that for each additional product page view, the Sales (Confirmed Order) (MYR) increases by 0.7705 units. This positive coefficient signifies a positive relationship between product page views and sales, indicating that an increase in product page views is associated with a rise in sales. While the effect is positive, it's also smaller compared to the impact of the 'Numbers of New Buyers' coefficient.\n",
    "\n",
    "However we can calculate that 18/0.7705 = 23.36 suggests that, on average, every 23.36 product page views may lead to a buyer's appearance. However, it's important to note that this estimation is based on the coefficient's magnitude and the relationship it represents in the model. It provides a way to interpret the impact of product page views on potential buyer appearances, according to the model's results.\n",
    "\n",
    "3. Coefficient for 'Product Visitors (Visit)' (-0.3615):\n",
    "\n",
    "Interpretation: This coefficient indicates that for each additional product visitor, sales decrease by 0.3615 unit. However, given the high p-value (0.382) associated with this coefficient, the relationship between product visitors and the dependent variable which is Sales (Confirmed Order) is not statistically significant in this model. This means that the effect of product visitors on the Sales is uncertain and may not be reliable for predictions or inferences. Considering logical reasoning, it's rational to assume that an increase in Product Visitors (Visit) does not necessarily lead to a decrease in sales. \n",
    "\n",
    "Specifically, \"Numbers of New Buyers\" and \"Product Page Views\" have emerged as the top 2 most important feature, significantly impacting sales outcomes. Conversely, the previously significant feature, \"Product Visitors (Visit),\" has diminished in importance."
   ]
  },
  {
   "cell_type": "markdown",
   "metadata": {},
   "source": [
    "Here the predicted and actual value is plotted"
   ]
  },
  {
   "cell_type": "code",
   "execution_count": null,
   "metadata": {},
   "outputs": [],
   "source": [
    "plt.figure(figsize=(10, 6))\n",
    "plt.scatter(y_test_mlr, y_pred_mlr, color='red', label='Predicted')\n",
    "plt.scatter(y_test_mlr, y_test_mlr, color='blue', label='Actual')\n",
    "plt.title('Actual vs Predicted Values')\n",
    "plt.xlabel('Actual Values')\n",
    "plt.ylabel('Predicted Values')\n",
    "plt.legend()\n",
    "plt.show()\n",
    "\n",
    "mae_mlr = mean_absolute_error(y_test_mlr, y_pred_mlr)\n",
    "mse_mlr = mean_squared_error(y_test_mlr, y_pred_mlr)\n",
    "r2_mlr = r2_score(y_test_mlr, y_pred_mlr)\n",
    "rmse_mlr = np.sqrt(mse_mlr)\n",
    "\n",
    "# Print metrics\n",
    "print(f\"RNN Mean Absolute Error (MAE): {mae_mlr}\")\n",
    "print(f\"RNN Mean Squared Error (MSE): {mse_mlr}\")\n",
    "print(f\"RNN R-squared (R2): {r2_mlr}\")\n",
    "print(f\"RNN Root Mean Squared Error (RMSE): {rmse_mlr}\")"
   ]
  },
  {
   "cell_type": "markdown",
   "metadata": {},
   "source": [
    "The blue points represent the actual values of the dependent variable (sales confirmed orders) from your test data.\n",
    "The red points indicate the predicted values from the MLR model.\n",
    "Ideally, in a perfect prediction scenario, all points (both blue and red) would align along a straight line, indicating that the predictions perfectly match the actual values. The closeness of the red points to the blue ones gives an indication of the model's accuracy.\n",
    "\n",
    "While the overall visual representation suggests a strong alignment between predicted and actual values, some points situated further towards the bottom left deviate slightly. This divergence might indicate specific instances where the model's predictions were not as accurate because it has promotion or offer on that day on Shopee which the model did not predicted it. Despite these outliers, the majority of the points exhibit a close alignment, affirming the model's overall reliability."
   ]
  },
  {
   "cell_type": "markdown",
   "metadata": {},
   "source": [
    "The R-squared value of 0.6156 reveals that approximately 61.56% of the total variability in sales can be explained by the variation in the Numbers of new buyers, Product Page View and Product Visitors (Visit) . This implies that while the presence of these 3 factor is important, 38.44% of the variability is influenced by other factors not considered in our model.\n",
    "\n",
    "The Mean Absolute Error (MAE: 0.0778), Mean Squared Error (MSE: 0.0190), and Root Mean Squared Error (RMSE: 0.1378) are all relatively low, suggesting reasonable predictive accuracy.\n",
    "\n",
    "Here are the metric obtained from the Random Forest\n",
    "Random Forest Mean Absolute Error (MAE): 0.075577446294192\n",
    "\n",
    "Random Forest Mean Squared Error (MSE): 0.01852308928242413\n",
    "\n",
    "Random Forest R-squared (R2): 0.6260583478144309\n",
    "\n",
    "Random Forest Root Mean Squared Error (RMSE): 0.13609955651075475\n",
    "\n",
    "his indicates the dataset might be more suitable for the Random Forest model. Despite this, the small metrics difference between the two models suggests that both Multiple Linear Regression (MLR) and Random Forest are suitable and they both offer different reliable insights, each providing distinct perspectives on the data."
   ]
  },
  {
   "cell_type": "code",
   "execution_count": null,
   "metadata": {},
   "outputs": [],
   "source": [
    "# Plot the graph for residuals\n",
    "\n",
    "# Calculate residuals\n",
    "residuals_mlr = y_test_mlr - y_pred_mlr\n",
    "\n",
    "# Plot residuals against predicted values\n",
    "plt.scatter(y_pred_mlr, residuals_mlr)\n",
    "plt.title('Predicted vs Residuals (For accessing model accuracy)')\n",
    "plt.xlabel('Predicted Values')\n",
    "plt.ylabel('Residuals')\n",
    "plt.axhline(y=0, color='r', linestyle='--', linewidth=2)\n",
    "plt.show()"
   ]
  },
  {
   "cell_type": "code",
   "execution_count": 26,
   "metadata": {},
   "outputs": [
    {
     "data": {
      "image/png": "[encoded data removed]",
      "text/plain": [
       "<Figure size 640x480 with 1 Axes>"
      ]
     },
     "metadata": {},
     "output_type": "display_data"
    }
   ],
   "source": [
    "# y_test_mlr and y_pred_mlr are the test and predicted values\n",
    "residuals = y_test_mlr - y_pred_mlr\n",
    "\n",
    "# Create a density plot of the residuals\n",
    "sns.histplot(residuals, bins=50, kde=True, stat='density')\n",
    "\n",
    "# Calculate mean and standard deviation of the residuals for the normal distribution\n",
    "residuals_mean = residuals.mean()\n",
    "residuals_std = residuals.std()\n",
    "\n",
    "# Generate points along the x-axis for the normal distribution curve\n",
    "x = np.linspace(min(residuals), max(residuals), 100)\n",
    "# Calculate the corresponding probability density function (PDF) values for a normal distribution\n",
    "pdf = norm.pdf(x, residuals_mean, residuals_std)\n",
    "\n",
    "# Plot the normal distribution curve\n",
    "plt.plot(x, pdf, label='Normal Distribution', color='red')\n",
    "\n",
    "plt.xlabel('Residuals')\n",
    "plt.ylabel('Density')\n",
    "plt.title('Histogram of Residuals (Shapiro W p-value = {0:0.3f})'.format(shapiro(residuals)[1]))\n",
    "plt.legend()\n",
    "plt.show()\n"
   ]
  },
  {
   "cell_type": "markdown",
   "metadata": {},
   "source": [
    "# Step 11: XGBoost Model as Cross Validation\n",
    "\n",
    "After establishing a foundational understanding of the data relationships through MLR, we progressed to employing XGBoost for an additional analysis. This step served as a method of cross-validation of the insights gained from both the Random Forest and MLR models. Using XGBoost as an additional model after Random Forest and Multiple Linear Regression can be justified with several compelling reasons:\n",
    "\n",
    "1. While Random Forest and MLR provide valuable insights, they represent two ends of the modeling spectrum. Random Forest being a complex model and MLR being a simpler, linear approach model. XGBoost fills the gap between these two by offering a balance of complexity and interpretability. It provides a different approach to model training and prediction, leveraging gradient boosting, which can offer new insights.\n",
    "\n",
    "2. XGBoost often outperforms other algorithms in terms of prediction accuracy, especially in cases where the data has complex structures that simpler models like MLR can't capture and where RF might overfit. It's known for delivering high-performance models that can handle a variety of data types.\n",
    "\n",
    "3. XGBoost has an efficient way of handling feature importance and selection. By providing this model with the feature importance we found just now, it offers a valuable cross-check against the insights gained from RF and MLR. Also, it has built-in cross-validation and regularization, which helps in preventing overfitting and ensures that the model generalizes well to unseen data.\n",
    "\n"
   ]
  },
  {
   "cell_type": "code",
   "execution_count": null,
   "metadata": {},
   "outputs": [],
   "source": [
    "import xgboost as xgb\n",
    "from sklearn.model_selection import train_test_split\n",
    "import pandas as pd\n",
    "\n",
    "# Assuming df1 is your DataFrame\n",
    "df2 = df1.copy(deep=True)\n",
    "# Exclude specific columns and define the target variable\n",
    "exclude_columns = ['Date', 'Sales (Confirmed Order) (MYR)']\n",
    "target_variable = 'Sales (Confirmed Order) (MYR)'\n",
    "\n",
    "# Check if the target variable is in df1\n",
    "\n",
    "    # Prepare the features by excluding the target and other non-feature columns\n",
    "features = df2.drop(columns=exclude_columns)\n",
    "\n",
    "    # Split the data into train and test sets\n",
    "X_train, X_test, y_train, y_test = train_test_split(features, df2[target_variable], test_size=0.2, random_state=42)\n",
    "\n",
    "    # Train the model\n",
    "xgb_model = xgb.XGBRegressor()\n",
    "xgb_model.fit(X_train, y_train)\n",
    "\n",
    "    # Predict for the whole dataset\n",
    "predictions = xgb_model.predict(features)\n",
    "    \n",
    "total_sales_growth1 = sum(predictions)\n",
    "\n",
    "    # Output the predictions\n",
    "print(\"Predictions for the whole dataset:\", total_sales_growth1)\n",
    "    \n",
    "# Increase 'Numbers of new buyers' and 'Product Page Views' by 5%\n",
    "increased_features = features.copy()\n",
    "increased_features['Numbers of new buyers'] *= 1.05\n",
    "increased_features['Product Page Views'] *= 1.05\n",
    "# Predict with the modified dataset\n",
    "modified_predictions = xgb_model.predict(increased_features)\n",
    "\n",
    "# Correctly sum the modified predictions\n",
    "total_sales_growth2 = sum(modified_predictions)\n",
    "\n",
    "# Output the modified predictions\n",
    "print(\"Predictions with increase of 5% of top 2 feature importance:\", total_sales_growth2)\n",
    "\n",
    "features_with_increased_columns = features.copy()\n",
    "features_with_increased_columns['Search Clicks'] *= 1.05\n",
    "features_with_increased_columns['Numbers of existing buyers'] *= 1.05\n",
    "features_with_increased_columns['Likes'] *= 1.05\n",
    "features_with_increased_columns['Product Visitors (Visit)'] *= 1.05\n",
    "predictions_columns = xgb_model.predict(features_with_increased_columns)\n",
    "total_sales_columns3 = sum(predictions_columns)\n",
    "\n",
    "# Output the results\n",
    "\n",
    "print(\"Predictions with increase of 5% 0f the least 2 feature importance:\", total_sales_columns3)\n"
   ]
  },
  {
   "cell_type": "markdown",
   "metadata": {},
   "source": [
    "Based on the analysis, increasing the two most crucial feature columns led to a notable sales boost from RM62984 to RM63436, emphasizing their significant impact. Conversely, when adjusting all other less important features, the sales increase was lesser, reaching only RM63328 from RM62984. This proves that the feature importance highlighted by the Random Forest model above is reliable. To illustrate these findings more visually, graphs depicting the percentage change in both the most and least important features against sales were plotted, clearly showing the substantial impact of the key features compared to others."
   ]
  },
  {
   "cell_type": "code",
   "execution_count": null,
   "metadata": {},
   "outputs": [],
   "source": [
    "import numpy as np\n",
    "import matplotlib.pyplot as plt\n",
    "\n",
    "percentage_increases = np.arange(0, 105, 5)  # 0% to 100% in 5% steps\n",
    "sales_predictions_top_2 = []\n",
    "sales_predictions_least_2 = []\n",
    "\n",
    "for percent_increase in percentage_increases:\n",
    "    # Modify top 2 features\n",
    "    modified_top_2 = features.copy()\n",
    "    modified_top_2['Numbers of new buyers'] *= (1 + percent_increase / 100)\n",
    "    modified_top_2['Product Page Views'] *= (1 + percent_increase / 100)\n",
    "    predictions_top_2 = xgb_model.predict(modified_top_2)\n",
    "    sales_predictions_top_2.append(sum(predictions_top_2))\n",
    "\n",
    "    # Modify least 2 important features\n",
    "    modified_least_2 = features.copy()\n",
    "    modified_least_2['Search Clicks'] *= (1 + percent_increase / 100)\n",
    "    modified_least_2['Numbers of existing buyers'] *= (1 + percent_increase / 100)\n",
    "    modified_least_2['Likes'] *= (1 + percent_increase / 100)\n",
    "    modified_least_2['Product Visitors (Visit)'] *= (1 + percent_increase / 100)\n",
    "    predictions_least_2 = xgb_model.predict(modified_least_2)\n",
    "    sales_predictions_least_2.append(sum(predictions_least_2))\n",
    "\n",
    "plt.figure(figsize=(10, 6))\n",
    "plt.plot(percentage_increases, sales_predictions_top_2, marker='o', linestyle='-', color='b', label='Top 2 Features')\n",
    "plt.plot(percentage_increases, sales_predictions_least_2, marker='o', linestyle='-', color='r', label='Least 2 Features')\n",
    "plt.title('Predicted Sales with Varying Percentage Increases in Features')\n",
    "plt.xlabel('Percentage Increase in Features (%)')\n",
    "plt.ylabel('Total Sales Predictions (MYR)')\n",
    "plt.legend()\n",
    "plt.grid(True)\n",
    "plt.show()\n"
   ]
  },
  {
   "cell_type": "markdown",
   "metadata": {},
   "source": [
    "Our analysis revealed that the predictive models could estimate total sales with remarkable accuracy. Using the XGBoost model, we predicted total sales of 62,984 MYR across the entire dataset, closely approximating the actual sales figure of 62,453 MYR. This minor deviation of approximately 531 MYR (or about 0.85% variance) underscores the model's reliability. Further, the model projected an increase in sales by 451.67 MYR with a 5% boost in 'Numbers of new buyers' and 'Product Page Views'.\n",
    "\n",
    "This projection, however, presents an interesting contrast when compared with the insights drawn from the Multiple Linear Regression (MLR) model. MLR, with its linear perspective, suggests that a 100-unit increase in 'Numbers of new buyers' should result in an approximate 1,500 MYR surge in sales. This discrepancy between the MLR and XGBoost outcomes can be attributed to several factors:\n",
    "\n",
    "However, in the case of XGBoost, the model is more complex and accounts for non-linear relationships and interactions between variables. This can lead to predictions that don't scale linearly with changes in the input features. The model might be capturing more intricate patterns in the data, where the effect of increasing 'Numbers of new buyers' and 'Product Page Views' isn't directly proportional to the increase in sales.\n",
    "\n",
    "The difference we observing in the increase predicted by XGBoost (less than 1500 MYR) versus the expected increase based on MLR's coefficient could be due to several factors:\n",
    "\n",
    "1. Feature Interactions: XGBoost, unlike MLR, may be capturing complex interactions between features. The sales impact of increasing 'Numbers of new buyers' is likely influenced by other variables in a non-linear manner.\n",
    "\n",
    "2. Model Complexity: XGBoost is a gradient boosting model capable of capturing complex patterns in the data, which might not be apparent or may not exist in a simpler model like MLR. \n",
    "\n",
    "3. Data Distribution and Outliers: The distribution of the data and the presence of outliers potentially influence how XGBoost understands relationships, differing from MLR's linear assumptions.\n",
    "\n",
    "4. Real-World Variability: Practical scenarios, such as promotional events on Shopee and order cancellations, can introduce complexities that might affect prediction accuracy. These real-life factors might not align perfectly with theoretical models like MLR.\n",
    "\n",
    "Despite these considerations, the close value of the XGBoost model's predictions with actual sales data has showned its reliability and effectiveness. It highlights that 'Numbers of new buyers' and 'Product Page Views' are indeed significant drivers of sales. While XGBoost provides a holistic view of total sales impact, MLR offers a direct, piece-by-piece correlation between new buyers and sales increments.\n",
    "\n",
    "The utilization of these three models which are MLR, Random Forest, and XGBoost serves to provide diverse insights into our data, each revealing different aspects of the sales dynamics. This multifaceted approach ensures a thorough and well-rounded analysis, crucial for informed decision-making in business contexts."
   ]
  },
  {
   "cell_type": "markdown",
   "metadata": {},
   "source": [
    "# Step 11: Suggestion\n",
    "\n",
    "In conclusion, the most important feature is Numbers of new buyers and Product Page Views. So we had a few suggestion based on these 2 feature.\n",
    "\n",
    "For the most direct method, the suggestion are listed below:\n",
    "\n",
    "1. Enhancing Product Page Views: Improve the platform's design interface on Shopee to attract customers, directly influencing sales. Implement eye-catching graphics and innovative designs for Cili Lado products will set them apart from competitors. Elevating aesthetics will notably boost Product Page Views, enticing users to engage more readily. With every 23.32 page views, a potential buyer emerges, making increased views crucial for higher sales probabilities.\n",
    "\n",
    "2. Maximizing number of new buyers by converting potential customers to buyers: Offer various discounts on Shopee to bring in more new customers. Use limited-time deals, bundle offers, and first-time purchase discounts for Cili Lado products. This helps bring in more potential people and boosts the chance of turning them into paying customers, leading to increased sales. Each new customer brings a valuable contribution of RM15.44 to total sales."
   ]
  },
  {
   "cell_type": "markdown",
   "metadata": {},
   "source": [
    "However, all the methods above are the most direct methods to increase page views. But, it has other indirect methods to increase page views. We had find a large amount of research and done some interviewing with our finance and bussiness students in Taylor's University. Here are some of the indirect methods to increase sales:\n",
    "\n",
    "1. Competitor Analysis: When searching for sambal in Shopee. Cili Lado is also one of the 8 options showed. A thorough examination of successful competitors reveals some key factors. We found out that they had multiple flavours or options to buy. If there are only 2 choices, the choices are Spicy and Less Spicy only. It is recommended for Cili Lado to enhance its product offerings by introducing a variety of flavors. Specifically, shifting from the current categorization of \"Red and Green\" to a more consumer-friendly \"Spicy and Less Spicy\" classification could significantly improve user understanding. The initial impression often shapes the buyer's decision-making process, influencing whether they proceed with a purchase or disengage from the product entirely. So a good description is important to motivate the customer to make a purchase.\n",
    "\n",
    "2. Exposure: Broadening the brand's presence across diverse platforms, such as XiaoHongShu, Facebook, and Instagram, serves as a strategic move. Simultaneously, tapping into offline avenues, like participating in Food Fairs or Road Shows, presents an opportunity to engage with potential customers directly. This comprehensive strategy aims to achieve two primary objectives: First, increasing brand awareness among a wider audience, and second, attracting new customers through offline events. By creating an online and offline presence, Cili Lado can be established as a strong brand identity. The ultimate goal is to channel this heightened visibility into increased sales on platforms like Shopee. This interconnected approach ensures that the brand resonates with a broader demographic, drawing attention to Cili Lado and ultimately driving a surge in online sales through strategic exposure efforts.\n",
    "\n",
    "Secondly, recognizing concerns about data completeness on Shopee, conducting surveys during offline events enables Cili Lado to gather the desired information directly. By coupling the survey with special offers, it not only addresses data concerns but also drives sales on Shopee. This synergistic approach leverages offline engagements to enhance data collection while concurrently increasing its sales.\n",
    "\n",
    "We can learn from our competitor, like the success of the sambal with 2.2 million sales is because of its influential presence on TikTok. This highlights the statement that relying solely on Shopee may not be potent enough for achieving such remarkable sales figures. Hence, diversifying and leveraging other platforms become crucial for directing sales back into Shopee.\n",
    "\n",
    "3. Add value and identity: Incorporate a compelling message in the product description section, highlighting Cili Lado's uniqueness, for instance the authentic taste directly sourced from Sumatera and the difference from Malay sambal. This distinction can be emphasized through marketing messages, labeling, or packaging, underscoring that Cili Lado offers not just a food product but a wholesome culinary experience crafted with care and dedication. Integrating these details into the Shopee description elevates the product's value and creates a distinctive brand identity. Such enhancements not only enrich the product but also ensure customer loyalty and attract new customers that are seeking exceptional and high-quality culinary offerings. For instance, highlights the sambal's vegan attributes in the description acts as an invitation for vegetarians to try the distinctive flavors of Cili Lado."
   ]
  },
  {
   "cell_type": "markdown",
   "metadata": {},
   "source": [
    "# Step 12: Reference\n",
    "\n",
    "We used ChatGPT 4.0 and ChatGPT 3.5 as a reference. These tools were crucial in elevating the quality of our work and expanding our scope beyond what we learned in class.  We are exposed with many different model which are not learned in class. The suggestion given by these AI models introduced us to a variety of models that are not covered in our module, enriching our understanding in Data Analytics and Machine Learning and providing us with diverse perspectives. However, to enhance accuracy and contextual relevance, improvements were implemented. Here are the 3 improvement to the Ai suggested answers are discussed:\n",
    "\n",
    "1. Complexity of Model \n",
    "\n",
    "Both AI models proposed using complex models like Neural Networks and Surimax, emphasizing their ability to capture non-linear relationships and robustness to outliers. While complex models offer strong predictive power, interpreting them might pose a challenge, especially in a business context. Stakeholders without technical expertise might find them daunting, potentially hindering decision-making. Hence we used a complex model, a simnple model and a moderate model.\n",
    "\n",
    "For the Complex model we use Random Forest to determine feature importance in our dataset. RF excels at capturing complex relationships, offering insights into influential features that affect sales.\n",
    "\n",
    "The simple model is MLR. Linear Regression is a simpler and more interpretable model, to understand the direct relationships between the most important features identified by RF and sales. This will offer a clearer understanding of how individual features affect sales in a linear context.\n",
    "\n",
    "The moderate model is XGBoost. It is used to gain a comprehensive understanding by cross-validating the relationships among the top 2 most features and sales. It has the ability to handle non-linear relationships better than linear models while maintaining interpretability allowed us to uncover hidden patterns that simple models might miss.\n",
    "\n",
    "2. Method of Dealing with Nosiy Data\n",
    "\n",
    "The AI models we used often recommend removing noisy data without considering other options. While this works in many cases, it became tricky when dealing with outliers. Sometimes, these extreme outliers hold important insights, so dropping them isn't always the best move.\n",
    "\n",
    "For example, in addressing outliers, the initial challenge rises as we not sure how to manage these extreme data points. Although considering imputation to retain the outlier data can work, we eventually gave up this approach. Imputation, while preserving the outliers, significantly impacted the predictive model's performance. This approach, of not dealing with outliers directly, isn't something AI suggests often unless prompted with specific instructions beforehand.\n",
    "\n",
    "The AI models often propose the most straightforward solution without considering other factors or trade-offs. They can't choose between different strategies or see what might work better in a specific situation. So, we had to think about how much the outliers mattered and how they could affect our predictions before deciding what to do.\n",
    "\n",
    "3. Tailored Suggestion with Business Context\n",
    "\n",
    "One significant improvement we introduced was tailoring the suggestions provided by AI models to align better with business needs. AI models, while good in suggesting data-driven approaches, often lack consideration for business context. They tend to focus solely on data patterns without factoring in the practical implications or specific goals of a business.\n",
    "\n",
    "In our case, after receiving insights from AI, we realized that solely relying on these suggestions might miss some critical business factors. For instance, while AI might recommend certain strategies based solely on statistical patterns, it might miss the larger picture of how these strategies align with our business objectives.\n",
    "\n",
    "However, it's important to recognize that AI lacks the experiential knowledge that human possess. For example, the suggestion of conducting a roadshow came from the real experience of our team members which is a suggestion that AI might not talk about. These real-world experiences and insights play a crucial role in decision-making.\n",
    "\n",
    "Therefore, our tailored suggestion involves an additional layer of evaluation, integrating the AI insights with business expertise and human experiential knowledge. By considering both statistical insights and the hands-on experience of humans or our team, we aim to arrive at more comprehensive and actionable recommendations that better serve our business objective."
   ]
  }
 ],
 "metadata": {
  "kernelspec": {
   "display_name": "Python 3",
   "language": "python",
   "name": "python3"
  },
  "language_info": {
   "codemirror_mode": {
    "name": "ipython",
    "version": 3
   },
   "file_extension": ".py",
   "mimetype": "text/x-python",
   "name": "python",
   "nbconvert_exporter": "python",
   "pygments_lexer": "ipython3",
   "version": "3.11.6"
  }
 },
 "nbformat": 4,
 "nbformat_minor": 2
}
